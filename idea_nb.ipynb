{
 "cells": [
  {
   "cell_type": "markdown",
   "id": "ea8f7dd1",
   "metadata": {},
   "source": [
    "# Project Ideas\n",
    "\n",
    "## Auto_tuner\n",
    "- looks at music file\n",
    "- strips vocals\n",
    "- Analyzes pattern\n",
    "- takes new file/audio input\n",
    "- strips out vocals (in time with og file)\n",
    "- tries to manipulate slightly /extremely (dependent on case) to match pitch and timing of OG vocals\n",
    "\n",
    "\n",
    "\n",
    "## Keep going with NLP/ Styleometry\n",
    "- Keep coming back\n",
    "- links being used:\n",
    "    - https://freelancedatascientist.net/fast-stylometry-tutorial/\n",
    "    - https://programminghistorian.org/en/lessons/introduction-to-stylometry-with-python\n",
    "    - https://github.com/njw27/Apple-Google-Sentiment-Analysis/blob/master/Final_Notebook.ipynb\n",
    "    - https://www.kaggle.com/code/christopher22/stylometry-identify-authors-by-sentence-structure/notebook\n",
    "    - https://towardsdatascience.com/finding-a-writers-style-using-neural-networks-a1c3efcb186b\n",
    "    - https://storyfit.com/blog/new-ai-emma-identity-detects-distinct-writing-styles\n",
    "    - https://fastdatascience.com/forensic-stylometry-linguistics-authorship-analysis-demo/\n",
    "    - https://www.researchgate.net/publication/341364491_Introduction_to_stylometry_with_Python\n",
    "    - https://towardsdatascience.com/no-fear-stylometry-with-expert-ai-163892fd234\n",
    "    - https://pypi.org/project/faststylometry\n",
    "    - https://hvplot.holoviz.org/#installation\n",
    "    "
   ]
  },
  {
   "cell_type": "code",
   "execution_count": null,
   "id": "8b6bfb90",
   "metadata": {},
   "outputs": [],
   "source": []
  },
  {
   "cell_type": "code",
   "execution_count": null,
   "id": "306113ed",
   "metadata": {},
   "outputs": [],
   "source": []
  },
  {
   "cell_type": "code",
   "execution_count": null,
   "id": "58b72c88",
   "metadata": {},
   "outputs": [],
   "source": []
  }
 ],
 "metadata": {
  "kernelspec": {
   "display_name": "Python 3",
   "language": "python",
   "name": "python3"
  },
  "language_info": {
   "codemirror_mode": {
    "name": "ipython",
    "version": 3
   },
   "file_extension": ".py",
   "mimetype": "text/x-python",
   "name": "python",
   "nbconvert_exporter": "python",
   "pygments_lexer": "ipython3",
   "version": "3.8.5"
  }
 },
 "nbformat": 4,
 "nbformat_minor": 5
}
