{
 "cells": [
  {
   "cell_type": "markdown",
   "id": "3af38f75",
   "metadata": {},
   "source": [
    "# Project Ideas\n",
    "\n",
    "## 1. Auto_tuner\n",
    "- looks at music file\n",
    "- strips vocals\n",
    "- Analyzes pattern\n",
    "- takes new file/audio input\n",
    "- strips out vocals (in time with og file)\n",
    "- tries to manipulate slightly /extremely (dependent on case) to match pitch and timing of OG vocals\n",
    "\n",
    "\n",
    "\n",
    "## 2. Keep going with NLP/ Styleometry\n",
    "- Keep coming back\n",
    "- links being used:\n",
    "    - https://freelancedatascientist.net/fast-stylometry-tutorial/\n",
    "    - https://programminghistorian.org/en/lessons/introduction-to-stylometry-with-python\n",
    "    - https://github.com/njw27/Apple-Google-Sentiment-Analysis/blob/master/Final_Notebook.ipynb\n",
    "    - https://www.kaggle.com/code/christopher22/stylometry-identify-authors-by-sentence-structure/notebook\n",
    "    - https://towardsdatascience.com/finding-a-writers-style-using-neural-networks-a1c3efcb186b\n",
    "    - https://storyfit.com/blog/new-ai-emma-identity-detects-distinct-writing-styles\n",
    "    - https://fastdatascience.com/forensic-stylometry-linguistics-authorship-analysis-demo/\n",
    "    - https://www.researchgate.net/publication/341364491_Introduction_to_stylometry_with_Python\n",
    "    - https://towardsdatascience.com/no-fear-stylometry-with-expert-ai-163892fd234\n",
    "    - https://pypi.org/project/faststylometry\n",
    "    - https://hvplot.holoviz.org/#installation\n",
    "    \n",
    "    \n",
    "## 3. Movie Related Idea for Fun\n",
    "- Recomendation system ?\n",
    "- For studio use? (Best ROI for whoever. a spin off of project 1)\n",
    "\n",
    "## 4. Library Cataloger\n",
    "- Keep track of books, movies, and music.\n",
    "- use bar codes or titles and search function\n",
    "- catagorize if physical copy or digital or other format (can have blu-ray, dvd and vhs entries for bttf for example)\n",
    "- location (my house/parents/kindle/hard drive)\n",
    "- have all listed under one heading - so back to the bttf example theres one icon but expanding you see that i have the vhs copy and dvd series collection at home, blu ray with me, didgtal on hd and on itunes)\n",
    "\n",
    "\n",
    "## 5. Password Generator\n",
    "- Quick Fun and easy\n",
    "- More of a UI exercise for slider/ input for # of characters\n",
    "- Toggles for Special characters, numbers, capitals\n",
    "- Automatically updating document for logging previously generated passwords?\n",
    "- Feature for doing random WORDS rather than letters to make it easier to memorize(can add/toggle numbers/special characters/capitals) "
   ]
  },
  {
   "cell_type": "code",
   "execution_count": null,
   "id": "c9744832",
   "metadata": {},
   "outputs": [],
   "source": []
  },
  {
   "cell_type": "code",
   "execution_count": null,
   "id": "4ade2bc5",
   "metadata": {},
   "outputs": [],
   "source": []
  },
  {
   "cell_type": "code",
   "execution_count": null,
   "id": "89526ab4",
   "metadata": {},
   "outputs": [],
   "source": []
  }
 ],
 "metadata": {
  "kernelspec": {
   "display_name": "Python 3",
   "language": "python",
   "name": "python3"
  },
  "language_info": {
   "codemirror_mode": {
    "name": "ipython",
    "version": 3
   },
   "file_extension": ".py",
   "mimetype": "text/x-python",
   "name": "python",
   "nbconvert_exporter": "python",
   "pygments_lexer": "ipython3",
   "version": "3.8.5"
  }
 },
 "nbformat": 4,
 "nbformat_minor": 5
}
