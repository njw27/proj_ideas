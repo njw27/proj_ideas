{
 "cells": [
  {
   "cell_type": "markdown",
   "id": "ebafecc3",
   "metadata": {},
   "source": [
    "# Project Ideas\n",
    "\n",
    "## 1. Auto_tuner\n",
    "- looks at music file\n",
    "- strips vocals\n",
    "- Analyzes pattern\n",
    "- takes new file/audio input\n",
    "- strips out vocals (in time with og file)\n",
    "- tries to manipulate slightly /extremely (dependent on case) to match pitch and timing of OG vocals\n",
    "- \n",
    "\n",
    "\n",
    "## 2. Keep going with NLP/ Styleometry\n",
    "- Keep coming back\n",
    "- links being used:\n",
    "    - https://freelancedatascientist.net/fast-stylometry-tutorial/\n",
    "    - https://programminghistorian.org/en/lessons/introduction-to-stylometry-with-python\n",
    "    - https://github.com/njw27/Apple-Google-Sentiment-Analysis/blob/master/Final_Notebook.ipynb\n",
    "    - https://www.kaggle.com/code/christopher22/stylometry-identify-authors-by-sentence-structure/notebook\n",
    "    - https://towardsdatascience.com/finding-a-writers-style-using-neural-networks-a1c3efcb186b\n",
    "    - https://storyfit.com/blog/new-ai-emma-identity-detects-distinct-writing-styles\n",
    "    - https://fastdatascience.com/forensic-stylometry-linguistics-authorship-analysis-demo/\n",
    "    - https://www.researchgate.net/publication/341364491_Introduction_to_stylometry_with_Python\n",
    "    - https://towardsdatascience.com/no-fear-stylometry-with-expert-ai-163892fd234\n",
    "    - https://pypi.org/project/faststylometry\n",
    "    - https://hvplot.holoviz.org/#installation\n",
    "    \n",
    "    \n",
    "    Refocus on to industry/legal applications?\n",
    "    \n",
    "    \n",
    "## 3. Movie Related Idea for Fun\n",
    "- Recomendation system ?\n",
    "- For studio use? (Best ROI for whoever. a spin off of project 1)\n",
    "\n",
    "## 4. Library Cataloger\n",
    "- Keep track of books, movies, and music.\n",
    "- use bar codes or titles and search function\n",
    "- catagorize if physical copy or digital or other format (can have blu-ray, dvd and vhs entries for bttf for example)\n",
    "- location (my house/parents/kindle/hard drive)\n",
    "- have all listed under one heading - so back to the bttf example theres one icon but expanding you see that i have the vhs copy and dvd series collection at home, blu ray with me, didgtal on hd and on itunes)\n",
    "\n",
    "\n",
    "## 5. Password Generator\n",
    "- Quick Fun and easy\n",
    "- More of a UI exercise for slider/ input for # of characters\n",
    "- Toggles for Special characters, numbers, capitals\n",
    "- Automatically updating document for logging previously generated passwords?\n",
    "- Feature for doing random WORDS rather than letters to make it easier to memorize(can add/toggle numbers/special characters/capitals) \n",
    "\n",
    "## 6. CB Radio App Idea\n",
    "- Communicate with other local drivers. Talk or just listen in\n",
    "\n",
    "## 7. Penny University - Great Name - Friend App\n",
    "- \n",
    "- Coffee and Chat app? Connect with people based on your interests - Have a cup of coffee and text / voice / video chat - Can save their info to talk again on platform with friends/collegues \n",
    "- keep list of interests small first\n",
    "- location based chats as well? People in area with similar interests\n",
    "- small rooms of up to 4 people - have to accept a persons text or voice before video \n",
    "- Can mix media (they can video while you voice or text) Did I just reinvent chatroulette/omegle but with stricter modding and friends list?\n",
    "- premium feature to do larger groups for essentiailly  a lecture - host/ main presenter needs to have the premium and holds focus of video - rest can still talk - open at first while building beta - \n",
    "- https://www.youtube.com/watch?v=MNIrP_aqwQY&list=WL&index=26  - Name context\n",
    "\n",
    "\n",
    "\n"
   ]
  },
  {
   "cell_type": "markdown",
   "id": "0bbe27f0",
   "metadata": {},
   "source": [
    "Test Text - Languages/Tech To Learn"
   ]
  },
  {
   "cell_type": "code",
   "execution_count": null,
   "id": "1ac4509e",
   "metadata": {},
   "outputs": [],
   "source": []
  },
  {
   "cell_type": "code",
   "execution_count": null,
   "id": "72a38bc0",
   "metadata": {},
   "outputs": [],
   "source": []
  }
 ],
 "metadata": {
  "kernelspec": {
   "display_name": "Python 3",
   "language": "python",
   "name": "python3"
  },
  "language_info": {
   "codemirror_mode": {
    "name": "ipython",
    "version": 3
   },
   "file_extension": ".py",
   "mimetype": "text/x-python",
   "name": "python",
   "nbconvert_exporter": "python",
   "pygments_lexer": "ipython3",
   "version": "3.8.5"
  }
 },
 "nbformat": 4,
 "nbformat_minor": 5
}
